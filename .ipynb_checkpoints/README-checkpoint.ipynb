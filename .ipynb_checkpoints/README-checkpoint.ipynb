{
 "cells": [
  {
   "cell_type": "markdown",
   "id": "a12c9060",
   "metadata": {},
   "source": [
    "# pyCUBs: Codon Usage Bias，CUB base on python 这个库主要是研究密码子偏好性\n",
    "\n",
    "## 已经开发和计划开发的功能列表\n",
    "\n",
    "[Done] Observed number of occurrences of codon (Obs) analysis\n",
    "\n",
    "\n",
    "[Done] Stat frequency of cusp software. cusp website: https://www.bioinformatics.nl/cgi-bin/emboss/cusp\n",
    "\n",
    "\n",
    "[Done] Stat frequency of cusp software.\n",
    "\n",
    "\n",
    "[Done] Relative synonymous codon usage (RSCU) analysis\n",
    "\n",
    "\n",
    "[Done] Draw codon barplot\n",
    "\n",
    "\n",
    "[Done] Parity rule 2 (PR2) analysis\n",
    "\n",
    "\n",
    "[Done] Draw Neutrality curve\n",
    "\n",
    "\n",
    "[Done] Draw ENC plot\n",
    "\n",
    "\n",
    "[Done] Cups sortware anslysis\n",
    "\n",
    "\n",
    "[Done part] codonW sortware anslysis\n",
    "\n",
    "\n",
    "[Plan] Codon Bias Index\n",
    "\n",
    "\n",
    "[Plan] Frequency of OPtimal codons\n",
    "\n",
    "\n",
    "[Plan] CAI analysis\n",
    "\n",
    "\n",
    "[Plan] Corresponding analysis (COA)\n",
    "\n",
    "\n",
    "## 依赖和测试环境\n",
    "\n",
    "scipy >= v1.11.4\n",
    "\n",
    "\n",
    "numpy >= v1.26.3\n",
    "\n",
    "\n",
    "seaborn >= v0.13.1\n",
    "\n",
    "\n",
    "matplotlib >= v3.8.2\n",
    "\n",
    "\n",
    "python >= v3.11.5\n",
    "\n",
    "## 测试数据\n",
    "\n",
    "Min.mt.fasta 数据来自这篇论文蔡元保, 杨祥燕. 澳洲坚果光壳种叶绿体基因组的密码子使用偏好性及其影响因素分析[J]. 植物科学学报, 2022, 40(2): 229-239. DOI: 10.11913/PSJ.2095-0837.2022.20229"
   ]
  },
  {
   "cell_type": "code",
   "execution_count": null,
   "id": "b244e12c",
   "metadata": {},
   "outputs": [],
   "source": [
    "## 导入库\n",
    "import sys\n",
    "sys.path.append('/mnt/nfs1/jupyter/pyCUBs/pyCUBs/') # 库的路径\n",
    "import pycubcore\n",
    "\n",
    "## 切换测试工作路径, 导入测试数据\n",
    "import os\n",
    "os.chdir('/mnt/nfs1/jupyter/pyCUBs/')\n",
    "inputfile = \"./test_data/Min.mt.fasta\"\n",
    "\n",
    "## 模块介绍\n",
    "\"\"\"\n",
    "├── codontables.py  # 密码子表模块\n",
    "├── fastaio.py      # Fasta IO 模块\n",
    "└── pycubcore.py    # CUB 核心计算模块\n",
    "\"\"\"\n",
    "import codontables\n",
    "print(\"\\n可用的遗传密码子表：\\n\",codontables.CodonTables())\n",
    "import fastaio\n",
    "help(fastaio.FastaIO)\n",
    "\n",
    "## 库的一些信息\n",
    "print(pycubcore.__author__)\n",
    "print(\"pycubcore的函数：\", pycubcore.__all__)\n",
    "print(\"版本号：\",pycubcore.__version__)"
   ]
  },
  {
   "cell_type": "code",
   "execution_count": null,
   "id": "6dd8fb6d",
   "metadata": {},
   "outputs": [],
   "source": [
    "## example1: Effective number of codons (ENC) analysis\n",
    "ENCResult = pycubcore.ENC(inputfile, Genetic_Codes=16) #Genetic_Codes=16 选择遗传密码子表16 植物叶绿体\n",
    "pycubcore.DrawENC(ENCResult, show_gene_name=False)"
   ]
  },
  {
   "cell_type": "code",
   "execution_count": null,
   "id": "ef981f4f",
   "metadata": {},
   "outputs": [],
   "source": [
    "# example2: Parity rule 2 (PR2) analysis.\n",
    "PR2Result = pycubcore.PR2(inputfile, Genetic_Codes=16)\n",
    "pycubcore.DrawPR2(PR2Result, show_gene_name=True) #展示gene name"
   ]
  },
  {
   "cell_type": "code",
   "execution_count": null,
   "id": "80bcc553",
   "metadata": {},
   "outputs": [],
   "source": [
    "# example3: Neutral plot analysis.\n",
    "NPAResult = pycubcore.NPA(inputfile, Genetic_Codes=16)\n",
    "pycubcore.DrawNPA(NPAResult, show_gene_name=True) #展示gene name"
   ]
  },
  {
   "cell_type": "code",
   "execution_count": null,
   "id": "360c52ad",
   "metadata": {
    "scrolled": false
   },
   "outputs": [],
   "source": [
    "# example4: 计算 Obs, Franction, Frequency, RSCU\n",
    "GeneName, Seqence = next(fastaio.FastaIO(inputfile))\n",
    "print(\"输入的序列：\\n\")\n",
    "print(\">\"+GeneName+\"\\n\", Seqence, sep=\"\")\n",
    "\n",
    "# 计算\n",
    "Obs = pycubcore.GetObs(Seqs=Seqence, Genetic_Codes=1) #Seqs这个参数可以是一个基因序列的string， 也可以是list, 如一个叶绿体的所以CDS序列的list, 从而计算整个物中Obs\n",
    "Franction=pycubcore.GetFranction(Obs)\n",
    "Frequency=pycubcore.GetFrequency(Obs)\n",
    "RSCU=pycubcore.GetRSCU(Obs)\n",
    "\n",
    "# 可视化\n",
    "print(\"\\n可视化：\\n\")\n",
    "pycubcore.DrawCodonBarplot(Obs, data_type=\"Number\")\n",
    "pycubcore.DrawCodonBarplot(Franction, data_type=\"Franction\")\n",
    "pycubcore.DrawCodonBarplot(Frequency, data_type=\"Frequency\")\n",
    "pycubcore.DrawCodonBarplot(RSCU, data_type=\"RSCU\")"
   ]
  },
  {
   "cell_type": "code",
   "execution_count": null,
   "id": "0d6a4bd3",
   "metadata": {},
   "outputs": [],
   "source": [
    "# example5: 获得Cusp类似的结果\n",
    "# Cusp website: https://www.bioinformatics.nl/cgi-bin/emboss/cusp\n",
    "\n",
    "GeneName, Seqence = next(fastaio.FastaIO(inputfile))\n",
    "print(\"输入的序列：\\n\")\n",
    "print(\">\"+GeneName+\"\\n\", Seqence, sep=\"\")\n",
    "print(\"\\n\")\n",
    "\n",
    "Obs = pycubcore.GetObs(Seqs=Seqence, Genetic_Codes=1) \n",
    "print(\"Cusp结果：\\n\")\n",
    "print(pycubcore.GetCusp(Obs, human_format=True)) #human_format=True 人类可阅读的输出，否则是机器可读"
   ]
  },
  {
   "cell_type": "code",
   "execution_count": null,
   "id": "26fb07e5",
   "metadata": {},
   "outputs": [],
   "source": [
    "# example6: 获得 codonW 软件类似的结果\n",
    "GeneName, Seqence = next(fastaio.FastaIO(inputfile))\n",
    "print(\"输入的序列：\\n\")\n",
    "print(\">\"+GeneName+\"\\n\", Seqence, sep=\"\")\n",
    "print(\"\\n\")\n",
    "\n",
    "Obs = pycubcore.GetObs(Seqs=Seqence, Genetic_Codes=16) \n",
    "print(\"Cusp结果：\\n\")\n",
    "print(pycubcore.GetcodonW(Obs, human_format=True)) #human_format=True 人类可阅读的输出，否则是机器可读"
   ]
  }
 ],
 "metadata": {
  "kernelspec": {
   "display_name": "Python 3 (ipykernel)",
   "language": "python",
   "name": "python3"
  },
  "language_info": {
   "codemirror_mode": {
    "name": "ipython",
    "version": 3
   },
   "file_extension": ".py",
   "mimetype": "text/x-python",
   "name": "python",
   "nbconvert_exporter": "python",
   "pygments_lexer": "ipython3",
   "version": "3.11.5"
  }
 },
 "nbformat": 4,
 "nbformat_minor": 5
}
